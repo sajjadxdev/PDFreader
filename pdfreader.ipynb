{
  "nbformat": 4,
  "nbformat_minor": 0,
  "metadata": {
    "colab": {
      "provenance": []
    },
    "kernelspec": {
      "name": "python3",
      "display_name": "Python 3"
    },
    "language_info": {
      "name": "python"
    }
  },
  "cells": [
    {
      "cell_type": "code",
      "execution_count": 33,
      "metadata": {
        "colab": {
          "base_uri": "https://localhost:8080/"
        },
        "id": "RBsumok0wj9k",
        "outputId": "e770a22c-ef09-4b32-e81e-d65bfdaa9b79"
      },
      "outputs": [
        {
          "output_type": "stream",
          "name": "stdout",
          "text": [
            "Requirement already satisfied: langchain in /usr/local/lib/python3.10/dist-packages (0.3.7)\n",
            "Requirement already satisfied: openai in /usr/local/lib/python3.10/dist-packages (1.52.2)\n",
            "Requirement already satisfied: PyPDF2 in /usr/local/lib/python3.10/dist-packages (3.0.1)\n",
            "Requirement already satisfied: faiss-cpu in /usr/local/lib/python3.10/dist-packages (1.9.0)\n",
            "Requirement already satisfied: tiktoken in /usr/local/lib/python3.10/dist-packages (0.8.0)\n",
            "Requirement already satisfied: langchain_community in /usr/local/lib/python3.10/dist-packages (0.3.5)\n",
            "Requirement already satisfied: PyYAML>=5.3 in /usr/local/lib/python3.10/dist-packages (from langchain) (6.0.2)\n",
            "Requirement already satisfied: SQLAlchemy<3,>=1.4 in /usr/local/lib/python3.10/dist-packages (from langchain) (2.0.35)\n",
            "Requirement already satisfied: aiohttp<4.0.0,>=3.8.3 in /usr/local/lib/python3.10/dist-packages (from langchain) (3.10.10)\n",
            "Requirement already satisfied: async-timeout<5.0.0,>=4.0.0 in /usr/local/lib/python3.10/dist-packages (from langchain) (4.0.3)\n",
            "Requirement already satisfied: langchain-core<0.4.0,>=0.3.15 in /usr/local/lib/python3.10/dist-packages (from langchain) (0.3.15)\n",
            "Requirement already satisfied: langchain-text-splitters<0.4.0,>=0.3.0 in /usr/local/lib/python3.10/dist-packages (from langchain) (0.3.0)\n",
            "Requirement already satisfied: langsmith<0.2.0,>=0.1.17 in /usr/local/lib/python3.10/dist-packages (from langchain) (0.1.137)\n",
            "Requirement already satisfied: numpy<2,>=1 in /usr/local/lib/python3.10/dist-packages (from langchain) (1.26.4)\n",
            "Requirement already satisfied: pydantic<3.0.0,>=2.7.4 in /usr/local/lib/python3.10/dist-packages (from langchain) (2.9.2)\n",
            "Requirement already satisfied: requests<3,>=2 in /usr/local/lib/python3.10/dist-packages (from langchain) (2.32.3)\n",
            "Requirement already satisfied: tenacity!=8.4.0,<10,>=8.1.0 in /usr/local/lib/python3.10/dist-packages (from langchain) (9.0.0)\n",
            "Requirement already satisfied: anyio<5,>=3.5.0 in /usr/local/lib/python3.10/dist-packages (from openai) (3.7.1)\n",
            "Requirement already satisfied: distro<2,>=1.7.0 in /usr/local/lib/python3.10/dist-packages (from openai) (1.9.0)\n",
            "Requirement already satisfied: httpx<1,>=0.23.0 in /usr/local/lib/python3.10/dist-packages (from openai) (0.27.2)\n",
            "Requirement already satisfied: jiter<1,>=0.4.0 in /usr/local/lib/python3.10/dist-packages (from openai) (0.6.1)\n",
            "Requirement already satisfied: sniffio in /usr/local/lib/python3.10/dist-packages (from openai) (1.3.1)\n",
            "Requirement already satisfied: tqdm>4 in /usr/local/lib/python3.10/dist-packages (from openai) (4.66.6)\n",
            "Requirement already satisfied: typing-extensions<5,>=4.11 in /usr/local/lib/python3.10/dist-packages (from openai) (4.12.2)\n",
            "Requirement already satisfied: packaging in /usr/local/lib/python3.10/dist-packages (from faiss-cpu) (24.1)\n",
            "Requirement already satisfied: regex>=2022.1.18 in /usr/local/lib/python3.10/dist-packages (from tiktoken) (2024.9.11)\n",
            "Requirement already satisfied: dataclasses-json<0.7,>=0.5.7 in /usr/local/lib/python3.10/dist-packages (from langchain_community) (0.6.7)\n",
            "Requirement already satisfied: httpx-sse<0.5.0,>=0.4.0 in /usr/local/lib/python3.10/dist-packages (from langchain_community) (0.4.0)\n",
            "Requirement already satisfied: pydantic-settings<3.0.0,>=2.4.0 in /usr/local/lib/python3.10/dist-packages (from langchain_community) (2.6.1)\n",
            "Requirement already satisfied: aiohappyeyeballs>=2.3.0 in /usr/local/lib/python3.10/dist-packages (from aiohttp<4.0.0,>=3.8.3->langchain) (2.4.3)\n",
            "Requirement already satisfied: aiosignal>=1.1.2 in /usr/local/lib/python3.10/dist-packages (from aiohttp<4.0.0,>=3.8.3->langchain) (1.3.1)\n",
            "Requirement already satisfied: attrs>=17.3.0 in /usr/local/lib/python3.10/dist-packages (from aiohttp<4.0.0,>=3.8.3->langchain) (24.2.0)\n",
            "Requirement already satisfied: frozenlist>=1.1.1 in /usr/local/lib/python3.10/dist-packages (from aiohttp<4.0.0,>=3.8.3->langchain) (1.5.0)\n",
            "Requirement already satisfied: multidict<7.0,>=4.5 in /usr/local/lib/python3.10/dist-packages (from aiohttp<4.0.0,>=3.8.3->langchain) (6.1.0)\n",
            "Requirement already satisfied: yarl<2.0,>=1.12.0 in /usr/local/lib/python3.10/dist-packages (from aiohttp<4.0.0,>=3.8.3->langchain) (1.17.0)\n",
            "Requirement already satisfied: idna>=2.8 in /usr/local/lib/python3.10/dist-packages (from anyio<5,>=3.5.0->openai) (3.10)\n",
            "Requirement already satisfied: exceptiongroup in /usr/local/lib/python3.10/dist-packages (from anyio<5,>=3.5.0->openai) (1.2.2)\n",
            "Requirement already satisfied: marshmallow<4.0.0,>=3.18.0 in /usr/local/lib/python3.10/dist-packages (from dataclasses-json<0.7,>=0.5.7->langchain_community) (3.23.1)\n",
            "Requirement already satisfied: typing-inspect<1,>=0.4.0 in /usr/local/lib/python3.10/dist-packages (from dataclasses-json<0.7,>=0.5.7->langchain_community) (0.9.0)\n",
            "Requirement already satisfied: certifi in /usr/local/lib/python3.10/dist-packages (from httpx<1,>=0.23.0->openai) (2024.8.30)\n",
            "Requirement already satisfied: httpcore==1.* in /usr/local/lib/python3.10/dist-packages (from httpx<1,>=0.23.0->openai) (1.0.6)\n",
            "Requirement already satisfied: h11<0.15,>=0.13 in /usr/local/lib/python3.10/dist-packages (from httpcore==1.*->httpx<1,>=0.23.0->openai) (0.14.0)\n",
            "Requirement already satisfied: jsonpatch<2.0,>=1.33 in /usr/local/lib/python3.10/dist-packages (from langchain-core<0.4.0,>=0.3.15->langchain) (1.33)\n",
            "Requirement already satisfied: orjson<4.0.0,>=3.9.14 in /usr/local/lib/python3.10/dist-packages (from langsmith<0.2.0,>=0.1.17->langchain) (3.10.10)\n",
            "Requirement already satisfied: requests-toolbelt<2.0.0,>=1.0.0 in /usr/local/lib/python3.10/dist-packages (from langsmith<0.2.0,>=0.1.17->langchain) (1.0.0)\n",
            "Requirement already satisfied: annotated-types>=0.6.0 in /usr/local/lib/python3.10/dist-packages (from pydantic<3.0.0,>=2.7.4->langchain) (0.7.0)\n",
            "Requirement already satisfied: pydantic-core==2.23.4 in /usr/local/lib/python3.10/dist-packages (from pydantic<3.0.0,>=2.7.4->langchain) (2.23.4)\n",
            "Requirement already satisfied: python-dotenv>=0.21.0 in /usr/local/lib/python3.10/dist-packages (from pydantic-settings<3.0.0,>=2.4.0->langchain_community) (1.0.1)\n",
            "Requirement already satisfied: charset-normalizer<4,>=2 in /usr/local/lib/python3.10/dist-packages (from requests<3,>=2->langchain) (3.4.0)\n",
            "Requirement already satisfied: urllib3<3,>=1.21.1 in /usr/local/lib/python3.10/dist-packages (from requests<3,>=2->langchain) (2.2.3)\n",
            "Requirement already satisfied: greenlet!=0.4.17 in /usr/local/lib/python3.10/dist-packages (from SQLAlchemy<3,>=1.4->langchain) (3.1.1)\n",
            "Requirement already satisfied: jsonpointer>=1.9 in /usr/local/lib/python3.10/dist-packages (from jsonpatch<2.0,>=1.33->langchain-core<0.4.0,>=0.3.15->langchain) (3.0.0)\n",
            "Requirement already satisfied: mypy-extensions>=0.3.0 in /usr/local/lib/python3.10/dist-packages (from typing-inspect<1,>=0.4.0->dataclasses-json<0.7,>=0.5.7->langchain_community) (1.0.0)\n",
            "Requirement already satisfied: propcache>=0.2.0 in /usr/local/lib/python3.10/dist-packages (from yarl<2.0,>=1.12.0->aiohttp<4.0.0,>=3.8.3->langchain) (0.2.0)\n"
          ]
        }
      ],
      "source": [
        "!pip install langchain openai PyPDF2 faiss-cpu tiktoken langchain_community\n"
      ]
    },
    {
      "cell_type": "code",
      "source": [
        "from PyPDF2 import PdfReader\n",
        "from langchain.text_splitter import CharacterTextSplitter\n",
        "from langchain.embeddings.openai import OpenAIEmbeddings\n",
        "from langchain.vectorstores import FAISS"
      ],
      "metadata": {
        "id": "lNZ7v6-LwyTy"
      },
      "execution_count": 34,
      "outputs": []
    },
    {
      "cell_type": "code",
      "source": [
        "import os\n",
        "from google.colab import userdata\n",
        "google_api_key=userdata.get('.......Paste API KEY........')\n",
        "os.environ[\"OPENAI_API_KEY\"] = google_api_key\n"
      ],
      "metadata": {
        "id": "Kza5-aqzxtX8"
      },
      "execution_count": 35,
      "outputs": []
    },
    {
      "cell_type": "code",
      "source": [
        "pdfreader=PdfReader('Budget_in_Brief.pdf')"
      ],
      "metadata": {
        "id": "onHlGZMz9-17"
      },
      "execution_count": 48,
      "outputs": []
    },
    {
      "cell_type": "code",
      "source": [
        "from typing_extensions import Concatenate\n",
        "raw_text=''\n",
        "for i,page in enumerate(pdfreader.pages):\n",
        "  content=page.extract_text()\n",
        "  if content:\n",
        "    raw_text+=content\n",
        "\n",
        "#"
      ],
      "metadata": {
        "id": "E_-uM_D1-SBw"
      },
      "execution_count": 49,
      "outputs": []
    },
    {
      "cell_type": "code",
      "source": [
        "raw_text"
      ],
      "metadata": {
        "colab": {
          "base_uri": "https://localhost:8080/",
          "height": 140
        },
        "id": "RcGoo2UM-yB7",
        "outputId": "11278258-68d6-47e4-e031-c0d2d22cb7d3"
      },
      "execution_count": 50,
      "outputs": [
        {
          "output_type": "execute_result",
          "data": {
            "text/plain": [
              "\"FEDERAL BUDGET\\n2024-25 \\nGOVERNMENT OF P AKIS TAN\\nFINANCE DIVISION\\nISLAMAB ADFinance Divis ionThe document is acces s ible on Finance Divis ion's webs ite\\n(www.finance.gov.pk ). The FY2024-25 budget is available in greater detail in other\\nbudget documents  publis hed by Finance Divis ion. \\nSecretary to the Government of Pak is tanImdad Ullah Bosal\\nIs lamabad, the 12th June, 2024Budget in Brief pres ents a s ummary of the Federal Budget for FY2024-25. It\\noffers a s naps hot of revenues and expenditure, the fis cal deficit target and thecorres ponding financing plan of the Federal Government from domes tic and externals ources . Moving on to greater detail, the document provides a break down of tax andnon-tax receipts , and the projected s hare of provinces under the NFC Award. Detailsare als o available on es timated expenditures for FY2024-25, with a functionalclas s ification of expenditures as well. The las t s egment of the Budget in Brief coversthe Public Sector Development Program (PSDP).PREFACEPage\\n2\\n2\\n3\\n5\\nTable - 2: 6\\n7\\n9\\n9-10\\n11-13\\n14\\n15\\n15\\n16\\n17\\n(1) 17-18\\n(2) 18\\n(3) 18\\n(4) 19\\n(5) 19\\n(6) 20\\n(7) 20\\n(8) 21\\n(9) 21\\n(10) 22\\n23-24\\n25-29\\n30\\n31\\n31\\n32-34\\n35Table - 16: Dev elopment Loan and Adv ancesKey Priorities of the Federal Government for FY 2024-25\\nTable - 4: \\nTable - 6: Details of  Div isible Pool Taxes (Transf ers to Prov inces)\\nTable - 7: Table - 5: Non Tax Rev enue Receipts\\nCurrent Expenditure\\nTable - 11: Function Wise ExpenditureTable - 3: \\nEnv ironment Protection \\nHousing and Community  Amenities Health Af f airs and Serv ices Recreation, Culture and Religion The Budget Strategy for FY 2024-25 \\nCurrent Loan and Adv ances Table - 14: (DETAILED BUDGET ESTIMATES)\\nPublic Account (Net)BE & RE of  FY 2023-24 and BE of  FY 2024-25\\nSocial Protection Table - 8: \\nEconomic Af f airs Fiscal Def icit & Financing in Budget 2024-25\\nCurrent Inv estmentsDef ence Af f airs and Serv ices Table - 10: Part-III\\nCapital Receipts (Net)\\nExternal Resources\\nGeneral Public Serv ice Rev enue Receipts\\nTable - 9: \\nTable - 12: \\nTable - 13: Education Af f airs and Serv ices Public Order and Saf ety  Af f airs \\nTable - 15: Main Objectives of FY 2024-25 B udget\\nPart-II\\nTable - 1: Budget 2024-25 at a GlanceC O N T E N T S\\nPart-I \\nPSDP 2024-25\\nTable - 18: Grants and Transf ers\\nClimate, Gender and DisasterTable - 17: SubsidiesPART - I\\n1Key Priorities of the Federal Government for FY 2024-25\\nThe Budget Strategy for FY  2024-25The Gov ernment has set challenging rev enue targets f or FY2024-25. This\\ncommensurate with the ongoing ref orms at the Federal Board of Rev enue where end-to-end\\ndigitization is on the cards. Use of AI will supplement this initiativ e as FBR automates itsprocesses. A compliance risk management sy stem is also being introduced to ensurecompliance to tax laws. On the expenditure side, non-essential spending has been curtailedunder austerity measures and SOEs are being rev amped f or improv ed management andgov ernance. Going f orward, this will create the necessary f iscal space f or enhanced pro-poorspending, climate change mitigation, and prov ision of quality public serv ices. PSDP has beenallocated Rs. 1,400 billion, a historically high f igure, to ensure dev elopment work on energy andwater sector projects, projects in the IT sector, and f or the special areas of AJK, GB and themerged districts of  Khy ber Pakhtunkhawa.Budget f or FY2024-25 has its f oundations on the key macro-economic and f iscal\\npriorities of the Gov ernment. While progress on the economic f ront has been steady in recenty ears, the stage is now set f or the country to gear itself towards an era of sustained andinclusiv e growth with ref orms across all sectors of the economy . Fiscal discipline and rightsizing, reducing the f ootprint of the gov ernment through priv atization, stimulating inv estments,reorienting the productiv e sector towards exports, optimal rev enue mobilization with a broadertax base, correcting energy sector imbalances and a better targeted welf are sy stem are someof  the areas where the Gov ernment is determined to keep its f ocus going f orward.\\nFY2024-25 budget is anchored in principles of sound f iscal and debt management.\\nIt prov ides a pathway f or economic rev iv al and stability , outlining strategic directions f orGov ernment rev enue generation and spending priorities. It lay s the groundwork f or addressingf iscal def icits and reducing inf lationary pressures in the short to medium term. Fiscalconsolidation, strengthening the country 's external accounts, and improv ing the balance ofpay ments position are central f eatures of  the FY2024-25 budget.\\n21.\\n2.\\n3.\\n4.\\n5.\\n6.\\n7.\\n8.Main Objectives of FY 2024-25 B udget\\nEducation and skill dev elopment of  y outh.Integrating green and gender responsiv e budgeting into public f inance management.Economic stability and growth through f iscal consolidation and ef f icient use of public\\nmoney . \\nStrengthening policy f ramework f or rev italizing the priv ate sector, f ostering\\nentrepreneurship, encouraging inv estment, and promoting innov ation to stimulate economicgrowth. Prioritizing improv ements in the country 's balance of  pay ments position.Bringing public debt to GDP ratio to sustainable lev els.\\nSupporting v ulnerable section of  society  through pro poor initiativ es.\\nImprov ing serv ice deliv ery /public good by f unneling more f unds into PSDP, introducing\\nsector specif ic ref orms and encouraging innov ation.\\n3PART - II\\n417,203\\n9,775\\n1,0142,122\\n1,777\\n1,363\\n839\\n313\\nB.  1,674\\n1,400\\n274\\n18,877Total (II + III + IV + V)III. Net External Receipts - Fed.\\nConsolidated FundRunning of Civil Govt.\\nTOTAL EXPENDITU RE(A +B)PIBs, Sukuk) - Fed.  \\nConsolidated Fund\\nV.  Privatization Proceeds - Fed. \\nConsolidated Fund10,377Ta ble  - 1\\n(Rs. in Billion)\\nRESOURCES\\n12,970Interest Payments\\nDefence A ffairs & ServicesPensionNon-Tax RevenueTax Revenue (FBR) - Federal \\nConsolidated Fund\\na) Gross Revenue Receipts\\nSubsidies\\nTOTA L RESOURCES (I to V) 18,8775,142            Table-1 presents posit ion of  overall Resour ces and Expenditure  f\\nor the FY  2024-25.  \\nII. Non Bank Borrowing (NSSs &\\nOthers) - Public A ccountI.   Net Revenue Rece ipt\\ns (a-b)17,815Grants and Tr an\\nsfers to \\nProvinces & Others 4,845\\n7,438 b) Less Provincial Share\\nProvision for Emergency \\nand others EXPENDIT URE\\nFederal PSDP\\nNet Lending 30Budget  2024-25 at a Glance \\nIV. Bank Borrowin g (T-Bills,A .   Current\\n2,662\\nDevelopment & Net Lendin g\\n8,500 666\\n5A ) Net External Financing 666\\n(10)\\n676\\n7,803\\n120\\n7,683\\nC) Privatization Proceeds 30\\n8,500Commercial & Euro Bond \\n27417,203A ) Federal Revenue (Net) 10,377\\nB) Net Domestic Financing\\na) Federal PSDPExpenditure (i+ii)\\ni) Current Expenditure\\nNational Sav ing Schemes,\\nGP Fund and Deposit &Reserves\\nTotal Financing (A +B+C) C) Federal Deficit (A -B)B) Total Federal 18,877(Rs. in Billion)Fiscal Deficit & Financing of B udget 2024-25 Ta ble  - 2\\n-8,5001,674Table-2 shows Fiscal Deficit  and Financing for FY  2024-25.\\nFinancing\\nBank (Gov t. Securities)Fiscal Deficit\\nii) Dev elopment and Net\\n1,400\\nb) Net LendingLending (a+b)Multilateral & Bilateral Source s\\n6Revised   \\n2023-24\\n9,252\\n2,947\\n12,199\\n(5,427)\\n6,772\\n15,160\\n(8,388)\\n539\\n(7,849)\\n-7.4%\\n402\\n0.4%\\n106,04518,877\\nPrimary Surplus as %GDP2,492\\nNominal GDP 124,150-5.9%(8,500)\\n2.0%Gross Revenue (FBR+NTR)\\nOverall Fiscal Deficit\\nPrimary SurplusOverall Fiscal Deficit as %GDPProvincial Surplus 1,2176,979\\n14,485\\n(7,506)\\n600\\n(6,906)\\n-6.5%\\n397\\n0.38%\\n105,817(7,283)ExpenditureFederal Budget DeficitNet Revenue for Federal \\nGovernment (7,438)17,815\\n10,377BE & RE of FY 2023-24 and BE of FY 2024-25\\nTable-3 presents important percentages of B udget & Revised Estimates of FY 2023-24\\nand Budget Estimates of FY  2024-25.\\nLess: Transfer to Provinces (-)Non Tax Revenue\\n(5,399)12,3782,963Ta ble  - 3\\nBudget \\n2023-24\\n9,415 Revenue Receipt (FBR)\\n4,84512,970Budget 2024-25(Rs. in Billion)\\n7Budget Estimates 2024-25 Revised Estimates 2023-24DETAILED BUDGET ESTIMATES\\nBudget Estimates 2023-24PART - III\\n8Budget  Revised Budget\\n2023-24 2023-24 2024-25\\n9,415,000 9,252,000 12,970,000\\nI. 4,255,000 3,721,000 5,512,000\\n- 4,203,531 3,681,888 5,454,062\\n- 925 10,573 15,662\\n- 15,666 11,231 16,637\\n- 34,878 17,308 25,639\\nII. 5,160,000 5,531,000 7,458,000\\n- 1,211,000 1,324,000 1,591,000\\n- 3,411,000 3,607,000 4,919,000- 538,000 600,000 948,000\\nBudget  Revised Budget\\n2023-24 2023-24 2024-25\\nA . 29,433 20,877 24,809\\n- 10,000 8,000 10,000\\n- 19,380 12,824 14,756\\n-5 3 5 3 5 3\\nB. 398,054 517,642 477,117\\n- 1,628 2,802 1,200\\n- 72,597 30,941 32,612\\n- 7,203 1,168 10,036LEVIES & FEESREVENUE RECEIPTS\\nFee collected by  ICT AdministrationWorkers Welf are Fund\\nRegulatory Authorities (Surplus/\\nPenalties)INCOME FROM PROPERTY &\\nENTERPRISE\\nPakistan Telecom Authority  (Surplus)Table-4 pres ents the detail of Revenues collected by FBR as given in\\nTable-1, Part-II.\\nFBR TA XES (I + II)\\nDirect Taxes\\nTable-5 s hows the Non Tax Revenues details realized by the other\\ngovernment functionaries . Workers' Prof it Participation Fund\\nCustoms Duties\\nAirport FeeClassificationClassification\\nIndirect T axes \\nSales Tax(Rs in Million)\\nPTA (4G Licences)Capital Value Tax \\nFederal Excise Income TaxTABLE - 4\\nMobile Handset Lev yTABLE - 5\\nNON TAX REVENUE RECEIPTS\\n(Rs in Million)\\n9Budget  Revised Budget\\n2023-24 2023-24 2024-25\\n- 77,201 89,737 96,353\\n- 118,000 300,000 198,000\\n- 121,425 92,994 138,915\\nC. 1,168,492 1,015,704 2,555,738\\n- 7,613 4,594 4,846- 1,113,000 972,183 2,500,000- 41,256 31,189 42,427- 2,016 2,124 1,954- 2,629 3,892 4,586- 1,977 1,723 1,925\\nD. 1,367,185 1,393,627 1,787,751\\n- 15,806 13,116 16,916- 25,000 6,000 15,000- 869,000 960,000 1,281,000- 40,000 27,169 25,618- 59,004 59,004 75,005\\n- 50,000 57,917 58,654\\n- 75,000 93,567 103,751- 20,000 25,000 25,000\\n- 35,000 28,000 28,000\\n- 40,000 2,500 2,500\\n- 12,000 3,516 3,537\\n- - 220 400\\n- 58,322 37,200 46,000\\n- 2,647 4,755 5,854\\n- 65,405 75,662 100,516\\n2,963,164 2,947,850 4,845,415Extraordinary  Receipts (Others)\\nTotal (A +B+C+D)RECEIPTS FROM CIVIL\\nA DMINISTRA TION A ND OTHERFUNCTIONS\\nEconomic Serv ices \\nPetroleum Lev y\\nNatural Gas Dev elopment SurchargeMISCELLA NEOUS RECEIPTS\\nWingfall Levy on Gas  Petroleum Levy on LPGWindf all Lev y  against Crude Oil\\nGas Inf rastructure Dev elopment Cess \\n(GIDC)Law and Order Mark up (PSEs & Others)Mark up (Prov inces)\\nCommunity  Serv ices \\nExtraordinary  Receipts (UNO)General Administration \\nForeign Grants\\nRo ya l ty o n  Na tu r a l  G a s\\nOther ReceiptsCitizenship, Naturalization & Passport \\nFee\\nDiscount Retained on Local Crude Price Div idends\\nSocial Serv ices(Rs in Million)\\nRoy alty  on Crude OilDef ence Classification\\nSBP Prof it\\n1082.0%\\n10.3%\\n5.0%2.7%(h)\\n(a)(ii) A llocation of shares to the Provincial Governments.— (1) The Prov ince-wise\\nratios giv en in clause (2) are based on multiple indicators. The indicators and their\\nrespectiv e weights as agreed upon are:—\\n   Inv erse population density(3) Af ter deducting the amounts as prescribed in clause (2), of the balance amount of\\nthe net proceeds of div isible pool taxes, f if ty -six percent shall be assigned to prov incesduring the f inancial y ear 2010-11 and f if ty -sev en and half percent f rom the f inancial y ear2011-12 onwards. The share of the Federal Gov ernment in the net proceeds of div isible pool\\nshall be f orty -f our percent during the f inancial y ear 2010-11 and f orty -two and half percentf rom the f inancial y ear 2011-12 onwards.\\n(c)\\n(d)   Rev enue collection or generationDistribution of Resources Amon g Federation and Prov inces\\n(b)\\n(2) One percent of the net proceeds of div isible pool taxes shall be assigned to\\nGov ernment of  Khy ber Pakhtunkhwa to meet the expenses on war on terror.taxes on the sales and purchases of goods imported, exported, produced,\\nmanuf actured or consumed;taxes on income;\\nwealth tax;\\n(d)\\n(e) export duties on cotton;\\nany  other tax which may  be lev ied by  the Federal Gov ernment.f ederal excise duties excluding the excise duty on gas charged at well-head;\\nandcapital v alue tax; (c)(i)          Distribution of R evenues.— (1) The div isible pool taxes in each y ear shall consist \\nof the f ollowing taxes lev ied and collected by the Federal Gov ernment in that y ear,\\nnamely : ─\\n(f )\\n   Pov erty  or backwardness   Population(a)\\n(b)1. Pakistan is a Federal democracy . In order to maintain inter-gov ernmental f iscal\\nrelationship, Article 160 of the Constitution prov ides f or setting up of a National Finance\\nCommission (NFC) with interv als not exceeding f iv e y ears. The mandate of NFC is tomake recommendations to the President f or the distribution of resources between theFederal and Prov incial Gov ernments. The recommendations of the NFC are giv en legalcov er through a President's Order No. 5 of 2010. The relev ant prov isions of President'sOrder No. 5 of  2010 as amended v ide No. 6 of  2015 are as under:\\n(g)customs duties;\\n119.09%\\n14.62%\\n24.55%51.74%\\n100.00%  Khy ber Pakhtunkhwa\\n(2) The dev elopment surcharge on natural gas f or Balochistan with ef f ect f rom 1st\\nJuly 2002, shall be re-worked out hy pothetically on the basis of the f ormula giv en in\\nclause (1) and the amount, subject to maximum of ten billion rupees, shall be paid in f iv e\\ny ears in f iv e equal installments by the Federal Gov ernment as grants to be charged on theFederal Consolidated Fund.  Total:  Punjab\\n(3) The Federal Gov ernment shall guarantee that Balochistan prov ince shall receiv e\\nthe projected sum of eighty -three billion rupees f rom the prov incial share in the net\\nproceeds of div isible pool taxes in the f irst y ear of the Award. Any shortf all in this amountshall be made up by the Federal Gov ernment f rom its own resources. This arrangement f or\\nBalochistan shall remain protected throughout the remaining f our y ears of the Award basedon annual budgetary  projections.(2) The sum assigned to the Prov incial Gov ernments under Article 3 shall be\\ndistributed amongst the Prov inces on the basis of  the percentage specif ied against each: ─\\n(a)\\n(c)\\n(v) Grants-in-A id to the Provinces. ―There shall be charged upon the Federal\\nConsolidated Fund each y ear, as grants-in-aid of the rev enues of the prov ince of Sindh an\\namount equiv alent to 0.66% of  the prov incial share in the net proceeds of  div isible pool as a compensation f or the losses on account of  abolition of  octroi and zilla tax.  Balochistan\\n(iii) P ayment of net proceeds of royalty on crude oil.─Each of the prov inces shall\\nbe paid in each f inancial y ear as a share in the net proceeds of the total roy alties on crudeoil an amount which bears to the total net proceeds the same proportion as the production ofcrude oil in the Prov ince in that y ear bears to the total production of  crude oil.  Sindh(b)\\n(d)\\n(iv) Payment of net proceeds of deve lopment surcharge on natural gas to the\\nProvinces. ─(1) Each of the Prov inces shall be paid in each f inancial y ear as a share in the\\nnet proceeds to be worked out based on av erage rate per MMBTU of the respectiv e\\nprov ince. The av erage rate per MMBTU shall be deriv ed by notionally clubbing both the\\nroy alty on natural gas and dev elopment surcharge on Gas. Roy alty on natural gas shall bedistributed in accordance with clause (1) of Article 161 of the Constitution whereas thedev elopment surcharge on natural gas would be distributed by  making adjustments based on this av erage rate.\\n12Budget  Revised Budget\\n2023-24 2023-24 2024-25\\n5,266,443 5,247,651 7,242,824       \\n- 2,358,873      2,116,531 3,055,981\\n- 530  5,569 8,981\\n- 1,920,805     2,050,054 2,786,341\\n- 300,323         336,281 536,897\\n-         685,911 739,215 854,624\\n        132,559        178,724         195,176 \\n- 13,720 26,460 24,500\\n- 62,552 88,215 101,676\\n- 42,277 56,759 57,481\\n- 14,009 7,290           11,519\\n5,399,001 5,426,374 7,438,000\\n2,663,892 2,676,492 3,695,076\\n1,345,377 1,361,747 1,853,831\\n895,145 894,427 1,221,535\\n494,587 493,709 667,557\\n5,399,001 5,426,374 7,438,000ClassificationDET AILS OF DIVISIBLE POOL T AXESTABLE - 6\\nCapital Value Tax(TRANSFERS TO PROVINCES )(vi) Sales tax on services.— NFC recognizes that sales tax on serv ices is a\\nProv incial subject under the Constitution of the Islamic Republic of Pakistan, and may be\\ncollected by  respectiv e Prov inces, if  they  so desired.\\nCustoms Duties (Excluding Export Dev. Surcharge)\\nPunjab TOTAL (A + B):Roy alty  on Crude Oil\\nPROVINCE- WISE SHA REA . DIVISIBLE POOL TA XES\\nIncome Tax(vii) The President has constituted 10th NFC on 21st July , 2020 f or consideration on\\ndistribution of  resources af resh.\\nRo ya l ty o n  Na tu r a l  G a s Detail of Prov incial share of Federal Taxes f or budget estimates and\\nrev ised estimates of  2023-24 and budget estimates of  2024-25 are giv en below:-\\nGas Dev elopment Surcharge(Rs in Million)\\nB. STRA IGHT TRA NSFERS\\nSindh Sales Tax (Excluding GST on Services)\\nFederal Excise (Excluding Excise Duty on Natural Gas)\\nTOTA L PROVINCIA L SHA RE:Balochistan Excise Duty on Natural Gas \\nKhy ber Pakhtunkhwa (Inclusive 1% War on \\nTerror) \\n13Budget  Revised Budget\\n2023-24 2023-24 2024-25\\n2,531,119 2,801,503     3,034,379\\nI. 632,200 393,541        491,999\\n- 621,700 269,493        479,999\\n- 10,500 124,048        12,000\\nII. 1,898,919 2,407,962     2,542,380\\n1,898,919 2,407,962     2,542,380\\n1,699,309 1,846,068     2,540,205\\n- 244,802         237,033        204,686\\n- 1,431,570      1,614,302 2,313,469\\n-( 5 )                 (0.5)             (5)                  \\n-( 5 )                 (1)                (5)                  \\n-( 3 )                 (0.1)             (3)                  \\n- (50)                (40)              (50)                \\n- 25,000 (1,000)          25,000\\n- (694)              (588)             -                   \\n- (651)              (2,882)          (2,888)            \\n- (654)              (754)             -                   \\n--                   -                  -                   \\n199,610 561,894 2,176\\n- 10,610           2,347           2,176             \\n- 189,000         559,547        -\\n--                   \\n2,531,119 2,801,503 3,034,379       PSEs and OthersThe s econd part s hown at Sr. No.II of this table relates to the Non Bank\\nBorrowing as indicated at Sr. No.II of Table-1 of Part-II.       \\n2. Floating DebtPublic Debt Net (1 + 2)\\nPremium Prize Bonds (Regd.)1. Permanent Debt\\nPakistan Inv estment Bonds\\nPakistan Banao Certif icate (3 \\nYears)\\nPrize Bonds\\nGov t. Bai-Muajjal Ijara SukukU.S. Dollar Bearer Certif icates\\nDenominated Domestic LoanPakistan Banao Certif icate (5 \\nYears)\\nForeign Assets (Declaration and \\nRepatriation) Act, 2018Foreign Currency  Bearer \\nCertificates (FCBCs)\\nTreasury  Bills Auction\\n CA PITA L RECEIPTS (I + II ):CAPITAL RECEIPTS (NET)TABLE - 7\\nIjara Sukuk BondsCA PITA L RECEIPTS TOTA L CA PITA L RECEIPTS (I + II)Classification(Rs in Million)Table-7 explains Capital Receipts (Net) and their s ources . It compris es of\\nNet Lending of PSEs, (Table-1) which is the difference between disbursement\\nminus  recovery of loans  by PSEs (Others).\\nSpecial US Dollar BondsForeign Exchange Bearer \\nCertif icates (FEBCs)Prov incesRecoveries of Loans & A dvances\\n14Budget  Revised Budget\\n2023-24 2023-24 2024-25\\n1 (13,131)          (127,354)       79,755           \\n2 (25,265)          (32,800)        (26,720)          \\n3 45,606           65,582         67,197           \\n7,210 (94,572)        120,232         \\nBudget  Revised Budget\\n2023-24 2023-24 2024-25\\n7,169,136 5,053,335 5,685,801\\n4,398,068 2,382,222 4,989,963\\n46,690 47,875 29,500\\n2,724,378 2,623,238     666,338         TABLE - 8\\n         Table-8 indicates  the pos ition of Public Account of Federation (Net):\\nG.P. Fund\\nEXTERNAL RESOURCES TABLE - 9\\nClassificationTable-9 indicates the details of Net External Receipts and s hows details\\nof inflow minus  repayments .                  TOTA L:National Sav ings SchemesPUBLIC ACCOUNT (NET)\\n(Rs in Million)\\nRepayment of Short Term Credits (-)Foreign Loans and Rep ayment (-)External Receipts\\nEXTERNA L RESOURCES (Net):Deposits and Reserv es (Net )(Rs in Million)\\nClassification\\n15Budget  Revised Budget\\n2023-24 2023-24 2024-25\\n(i)   7,302,524 8,251,000 9,775,000\\n- 6,430,305 7,211,167 8,736,398\\n- 872,219 1,039,833 1,038,602\\n(ii)  801,000 821,000 1,014,000\\n- 563,000 583,000 662,000\\n- 228,000 228,000 220,000\\n- 10,000 10,000 10,000\\n-                 -                  -   122,000\\n(iii) 1, 804,000 1,854,000 2,122,000\\n- 1,804,000 1,854,000 2,122,000\\n(iv)  1,408,638 1,482,000 1,776,672\\n- 92,400 99,989 113,000\\n- 1,316,238 1,382,010 1,663,672\\n(v)   1,064,275 1,071,000 1,363,412\\n713,959 753,000 839,000\\n250,000                -   313,000\\n13,344,395 14,232,000 17,203,391\\n*RE 2023-24 as of 24th May, 2024.(vii)Grants to Others\\nCURRENT EXPENDITURE (i to vii)     Running of Civil Government Pension Increase \\n(Civ il+Def ence)\\nGrants to Prov inces\\nProvision for Emergency and\\nothers (of which Rs. 15 billion is provision\\nfor natural disasters triggered by natural\\nhazards FY 2024-25)(vi)PensionMark-up on Domestic Debt\\nMark-up on Foreign Debt\\nGrants and Transfers\\nSubsidiesTable-10 contains Current Expenditure, already given at A in Table-1, in\\nsummarized form.CURRENT EXPENDIT URE *TABLE - 10\\nFederal Pension Fund(Rs in Million)\\nMilitary\\nDef ence Serv icesClassification\\nCivil\\nDefence A ffairs and ServicesMark-up Payment\\n16Budget  Revised Budget\\n2023-24 2023-24 2024-25\\n1) 10,444,266 11,219,999 13,640,239\\n2) 1,809,467 1,859,313 2,128,7813) 237,215 253,498 283,0514) 210,835 261,642 357,7355) 1,226 1,142 7,2526) 22,986 6,414 27,9177) 24,210 27,789 28,1718) 16,782 18,252 18,4669) 97,098 103,684 103,78110) 480,309 480,267 607,997\\n13,344,395 14,232,000 17,203,391\\n(1)\\nBudget  Revised Budget\\n2023-24 2023-24 2024-25\\n10,444,266 11,219,999 13,640,239\\n9,225,235 9,737,838 12,070,465\\n801,000 821,000 1,014,000\\n872,219 1,039,833 1,038,602\\n6,430,305 7,211,167 8,736,3981,121,711665,8381,281,465\\n4,399 4,399 9,032\\n1,133,905 1,356,691 1,456,094\\nContd….TOTAL:\\n  - OthersExecutive & Legislative Organs, Financial,\\nFiscal A ffairs & External A ffairs\\nTransfersForeign Economic A id Health Af f airs & Serv ices\\nThe detail of  Expenditure under abov e Ten Functions (10 Tables) are as under:-\\n  - Serv icing of  Domestic Debt General Public Serv ice\\n Def ence Af f airs and Serv ices\\n Social Protection Education Af f airs and Serv ices\\n  - Serv icing of  Foreign DebtClassificationTABLE - 11\\n Env ironment ProtectionFUNCTION WISE CURRENT EXPENDIT URE\\nTable-11 shows details of Current expenditure which is div ided into Ten (10) f unctional\\nitems as per Charts of  Accounts i.e. how much is utilized of  the Gov ernment.\\n Housing and Community  Amenities\\n  - Superannuation Allowances & Pensions(Rs in Million)\\n Recreation, Culture and Religion\\nGENERAL PUBLIC SERVICE\\nGENERA L PUBLIC SERVICE(Rs in Million) Public Order and Saf ety  Af f airsClassification\\n Economic Af f airs\\n17Budget  Revised Budget\\n2023-24 2023-24 2024-25\\n23,328 30,800 31,712\\n8,784 8,444 10,035\\n24,716 25,168 28,261\\n7,786 39,404 9,635\\n16,113 17,255 25,005\\n(2)\\nBudget  Revised Budget\\n2023-24 2023-24 2024-25\\n1,809,467 1,859,313 2,128,781\\n- 5,467 5,312 6,781\\n- 1,804,000 1,854,000 2,122,000\\n705,054 734,614 815,186\\n442,232 451,332 513,328\\n461,195 464,078 548,612\\n195,520 203,976 244,874\\n(3)\\nBudget  Revised Budget\\n2023-24 2023-24 2024-25\\n237,215 253,498 283,051\\n- 11,708 11,325 13,601\\n- 214,055 234,890 255,305\\n- 338 381 491Classification\\n- Civ il Works- Employ ees Related ExpensesGeneral P ublic\\nServices not els e\\nwhere\\ndefined (Rs in M\\nillion)\\nPUBLIC ORDER AND SAFETY AFFAIRS- Operating ExpensesDefence A dministrationDEFENCE A FFA IRS A ND SERVICESA dministration of General Public Services\\n(Rs in Million)\\nDefence Ser vi\\nces\\nLaw CourtsGeneral Services\\nResearch and Deve lopme\\nnt General \\nPublic S\\nervicesBasic Research\\nPolice and Civ il Armed Forces(Rs in Million)\\nClassificationClassificationDEFENCE AFFAIRS AND SERVICES\\nPUBLIC ORDER A ND SA FETY  A FFA IRS\\nFire Protection- Phy sical Assets\\n- 05 4 6 1 08\\n-6 0 65 70\\n- 11,004 6,773 13,477Prison Administration and Operation\\nR & D Public Order and Saf ety\\nAdministration of  Public Order\\n18(4)\\nBudget  Revised Budget\\n2023-24 2023-24 2024-25\\n210,835 261,642 357,735\\n-53,038 87,180 204,400\\n-32,704 39,426 24,661\\n- 51,943 51,851 19,650\\n- 2,884 3,089 9,503\\n- 40,513 40,265 45,877\\n- 26,811 37,153 51,510\\n- 1,741 1,893 1,347\\n-1,200 786 785\\n(5)\\nBudget  Revised Budget\\n2023-24 2023-24 2024-25\\n1,226 1,142 7,252\\nPollution Abatement 200 200 6,290\\n300 220 - \\n726 722 962Fuel and Energy\\nMining and Manuf acturing\\nResearch & Dev elopment Economic\\nA ffa i r sOther Industries\\nENVIRONMENT  PROT ECT IONClassification\\nResearch & Dev elopment Env ironment(Rs in Million)ECONOMIC  AFFAIRS\\nGeneral Economic, Commercial and\\nLabour Af f airs \\nAgriculture, Food, Irrigation, Forestry  \\nand Fishing \\nConstruction and Transport\\nCommunications(Rs in Million)ECONOMIC AFFAIRS\\nClassification\\nENVIRONMENT  PROT ECT ION\\nAdministration of  Env ironment Protection \\n(Waste Water Management)\\n1922,986 6,414 27,917\\n1,001 536 1,564\\n21,985 5,878 26,353HOUSING A ND COMMUNITY  A MENITIES\\nHousing Dev elopment\\nCommunity  Dev elopment(6)\\nBudget  Revised Budget\\n2023-24 2023-24 2024-25ClassificationHOUSING AND COMMUNITY AMENITIES\\n(Rs in Million)\\n(7)\\nBudget  Revised Budget\\n2023-24 2023-24 2024-25\\n24,210 27,789 28,171\\n- 32 71 32\\n- 16,567 20,069 21,683\\n- 3,110 4,618 1,110\\n- 4,501 3,031 5,346HEA LTH  A FFA IRS  A ND  SERVICES\\nPublic Health Serv ices(Rs in Million)\\nHealth AdministrationHEALTH AFFAIRS AND SERVICES\\nHospital Serv icesMedical Products, Appliances and \\nEquipment Classification\\n20(8)\\nBudget  Revised Budget\\n2023-24 2023-24 2024-25\\n16,782 18,252 18,466\\n- 200 200              400\\n- 1,433 1,544 1,244\\n- 11,120 13,701 12,404\\n- 1,780 1,782 1,861\\n-2,249 1,024 2,556Broadcasting and PublishingRECREATION, CULTURE AND RELIGION\\nClassification\\nReligious Af f airsRECREA TION, CULTURE A ND RELIGION\\nRecreation and Sporting Serv ices\\nAdministration of  Inf ormation, \\nRecreation & Culture(Rs in Million)\\nCultural Serv ices\\n(9)\\nBudget  Revised Budget\\n2023-24 2023-24 2024-25\\n97,098 103,684 103,781\\n- 4,468 5,128 5,224\\n- 10,778 12,298 12,624\\n- 76,589 81,998 79,312\\n-180  49 726\\n- 346 359 273\\n- 3,698 2,844 4,497\\n- 1,040 1,008 1,124Tertiary  Education Af f airs and Serv ices \\nSubsidiary  Serv ices to Education\\nAdministrationClassificationEDUCATION AFFAIRS AND SERVICES\\nEducation Services not definable by LevelEDUCA TION A FFA IRS A ND SERVICES\\nPre-Primary  & Primary  Education Af f airs Serv ices(Rs in Million)\\nEducation Af f airs, Serv ices not elsewhere classif iedSecondary  Education Af f airs & Serv ices \\n21(10)\\nBudget  Revised Budget\\n2023-24 2023-24 2024-25\\n480,309 480,267 607,997\\n- 2,892 2,963 3,532\\n- 2,127 2,270 1,449\\n- 475,289 475,033 603,017Social Protection (not elsewhere class)SOCIAL PROT ECT ION\\nClassification(Rs in Million)\\nAdministration\\nOthersSOCIA L PROTECTION\\n22Budget  Revised Budget\\n2023-24 2023-24 2024-25\\n894,075 584,000 1,190,000\\n1\\n9,500 9,500 9,500\\n2 150,000 150,000 276,000\\n3 25,000 39,000 65,000\\n4 25,000 25,000 108,000\\n5 48,000 - 48,000\\n6 14,000 - -  \\n7171,000 228,000 174,000\\n8 7,000 7,000 - \\n9 500 500 500\\n444,075 125,000 509,000\\n10262,075- 215,000\\n11 55,000 55,000 - \\n12 127,000 70,000         88,000           \\n13 - -  86,000\\n14 - - 120,000\\n50,600 50,600 18,400\\n15 5,000 5,000 2,400In addition to the abov e allocations under the Current Budget as per\\nten classif ication\\nheads, the Federal Gov ts prov ides f unds f or v arious purposes. \\nTDS KE Arrears  Subsidy to Power Sector \\n(WA PDA /PEPCO/KESC)In order to allev iate the impact of inf lation on citizens, especially the poor segments\\nof society , the Federal Gov ernment spends a f airly large sum on prov iding power and f ood\\nsubsidies.\\nAdditional SubsidyTABLE - 12\\nTable-12 s hows  detail of s ubs idies . A s ingle figure is  given in Table-1,\\n Part-II.\\nSubsies f or Tarif f  Dif f erential to Agri Tube \\nWells in Balochistan (PEPCO)Subsidies f or Inter-DISCO Tarif f  Dif f erential\\nSubsidies f or Merged District of  KP erstwhile \\nFATAClassification(Rs in Million)\\nSubsidies to K-Electric f or Tarif f  Dif f erential \\nKESC Subsidy  Industrial Support PackageS u b si d i e s fo r  T a r i ff Di ffe r e n ti a l  to  A JK\\nPakistan Energy  Rev olv ing Fund (PERA)Prov ision f or Power Subsidy\\nShortf all in Guaranteed Throughout of  PEPCOSubsies to  KESC f or Tarif f  f or Agriculture  \\nTubes Wells in Balochistan \\nFATA  Subsidy  ArrearsT a r i ff Di ffe r e n ci a l  to  A JK  \\n(Electricity Revenue\\nShortfall)GPPS-EquityLump Prov ision f or Power Subsidy :\\nSubsidy to Petroleum:SUBSIDIES\\n16 7,600 7,600 6,000\\n17 29,000 29,000 10,000\\n18 9,000 9,000  -\\nContd…..Pay ment of  Shortf all to ASIA Petroleum\\nDomestic Consumers through SNGPL (RLNG)\\nPDC on MOGAS (Petrol) Pay able to OMC\\n23Budget  Revised Budget\\n2023-24 2023-24 2024-25\\n10,000 10,000 12,000\\n19 7,000 8,500 8,000\\n20 3,000 1,500 4,000\\n60,000 60,000 68,000\\n21 25,000 25,000 3,000\\n35,000 35,000 65,000\\n22 5,000 12,474 10,000\\n23 30,000 22,526 50,000\\n24 - -  5,000\\n49,600 366,400 75,012\\n25 9,500 16,568 15,872\\n26 6,000           6,000 10,000\\n27 500 35 1,000\\n28 12,200 12,200 21,080\\n29 1,300 1,300 - \\n30 6,000 6,000 - \\n31 6,400 6,400 5,000\\n32 - -             3,200 \\n33 - -             2,000 \\n35 -        310,197 - \\n36 5,700 5,700 13,860\\n37 2,000 2,000 3,000\\n1,064,275 1,071,000 1,363,412Subsidy to Food (PA SSCO):\\nSubsidy to Industries & Production:\\nProduction & Supply  of  Urea Fertilizer \\n(Fertilizer Plants)Subsidy  to PASSCO f or Wheat Reserv e \\nStock\\nRamzan Package (Rs in Million)\\nSubsidy  on Import of  Urea Fertilizer\\nSubsidy  to Nay a Pak i\\nstan Housing Authority\\nMera Pakist an\\nMera Ghar Scheme (Mark-up\\nSubsidy  on Housing Finance Scheme\\nIntrest f ree loan to landless Farmers in Flood\\nAf f ected Areas \\nProv ision of Subsidy f or interest f ree loans\\nf or Farmers in Flood Af f ected Areas(Kissan/Flood)\\nMetro Bus Subsidy\\n TOTA L SUBSIDIES:Mark-up Subsidy and Risk Sharing Scheme\\nf or Farm Mechanization/Kissan Package \\nRefinance and Credit Guarantee  \\nScheme (SME Asaan Finance)\\nSubsidy f or enhancing f inancing to SMESector\\nMarkup Subsidy to Support Phasing out of\\nSBPs ref inancing f acilitiesClassification\\nOther Subsidies Subsidy  to PASSCO on Account of  Cost  \\nD\\nif f erential f or Sale of  W heat\\n \\nWheat Subsidy  to GBOthers Subsidies:USC PM Package & Arrears\\nUSC Sugar Subsidy  ArrearsUtility  Store Corporation\\n24Budget  Revised Budget\\n2023-24 2023-24 2024-25\\nI.   92,400 99,989 113,000\\n92,400 99,989 113,000\\n1 26,400 33,989 47,000\\n2\\nII.  1, 316,238 1,382,010 1,663,672\\n- 236,600 236,600 270,000\\n- 120,000 120,000 132,000\\n- 55,000 55,000 64,000\\n- 8,400 8,400 13,000\\n- 100 100 150\\n- 79,500 79,500 86,900\\n-5 0 5 0 7 0GRANTS AND TRANSFERS\\nMiscellaneous GrantsContingent Liabilities\\nCompetition Commission of  Pakistan\\nAudit Ov ersight Board66,000 66,000\\nReimbursement of TT Charbes,\\nRemmittances and Other Initiativ es  (Sohni\\nDharti, Pakistan Remittance Program, M-Wallet\\nScheme, Exchange Company Initiatives, HomeRemittances)66,000 Khyber PakhtunkhwaClassificationTABLE - 13\\nKP Merged Districts and \\nKhasadarsSPECIA L GRA NTSTable-13 giv es details of Grants and Transf er to prov inces and other entities as\\nprov ided by  the Federal Gov ernment. A single f igure is giv en in Table-1, Part-II.\\nGRA NTS IN A ID & MISCELLA NEOUS \\nAD J U S TME N TS\\nPakistan Railway s\\nContd…..GRANTS TO OTHERS\\nProv ision f or Relief  etc.(Rs in Million)\\nSindh (OZT)\\n25Budget  Revised Budget\\n2023-24 2023-24 2024-25\\n- 70,000         70,000       105,000\\n- 51,700         51,700       68,000\\n- 4,320           4,320          10,000\\n- 466,000      466,000 592,483\\n- 2,500           2,625 5,125\\n- 1,500           1,500 3,246\\n- - -  1,643\\n- 1,500           8,650           8,600\\n- 1,000           10,991 2,000\\n- 2,500           2,500 2,000\\n- 5,000 4,220           1,000\\n- 48,000         16,383 -\\n--  - 3,000\\n- 500              500             500\\n- 65,000         68,820 65,000\\n- 40,000         - 45,000\\n- 600              600             600\\n-1 0  1  10\\n-5  5  5\\n- 200              200             400\\n- 200              200             400\\n- 100              100             110ASPIRE W.B\\nSuperv isory  Board (CDNS)\\nAssociation f or Welf are of Retired\\nPensionersFinancial Monitoring Unit (FMU)\\nLiv estock Insurance Schemes (LIS)Pakistan Machine Tools FactoryEPIPov erty  Graducation of  extremely  poor \\nand f lood af f ected household (PGEP)\\nNational Disaster Risk Management \\nFund (NDRMF)\\nProv ision f or Marine/nav al etc.Classification\\nCrops Loan Insurance Schemes (CLIS)TDRP \\nElectionsBait-ul-MaalGilgit Baltistan Gov ernment\\nBenazir Income Support Programme\\nPublic Financial Management &\\nAccountability  (MoF-P4R)AJK Gov ernment\\nProv ision f or anticipated f orex inf lows \\n(RAM Project)\\nHigher Education Commission (HEC)\\nSecurity  Enhancement(Rs in Million)\\nNational Pov erty  Graduation Program \\n(NPGP)\\n26Budget  Revised Budget\\n2023-24 2023-24 2024-25\\n- 100 100 -\\n- 2,000 2,000 3,000\\n- 9,000 30,000 8,600\\n- 3,661 3,661 4,500\\n- 1,500 1,500 1,150\\n- 477 477 500\\n- 100 100 100\\n - 100 100 10\\n-1 0 10 -\\n- 3,000 3,000 40,000\\n- 100 100 -\\n- 200 120 -\\n- 500 500 -\\n- -- 400\\n- 8,000 8,000 -\\n- 1,000 1,000 -\\n - 500 500 -\\n- 500 500 -\\n- 1,000 1,000 -\\n- 1,000 400 -\\n- 1,000 --Nay a Pakistan Certif icates & othersRelief to widow borrowers of HBFCL\\n(Widows Welf are)\\nRef inance and Credit Guarantee Scheme \\nf or Women EnterpreneursPM Youth Business & Agriculture Loan \\nScheme\\nGIDC f or ISGSPM Kamy ab Jawan/ YES Program\\nPM Youth Business LoanPublic Financial Management &\\nAccountability  (Prov inces-P4R)\\nKamy ab Pakistan Program  \\nConcessional Credit f or Small Farmers\\nContd…PLIC\\nFilm Finance FundCredit Guarantee Scheme to SMEs/SME\\nAsaan FinanceSAP Sy stem Up-gradationClassification\\nDCS Pension\\nSouth Asian Games-IPC(Rs in Million)\\nRe-Finance Risk Sharing Loan Scheme\\nAgriculture Policy  InstituteAgriculture Productiv ity  Initiativ es\\nWorking Journalists Health Insurance \\n(Health Card)\\nArtist Health Insurance (Health Card)\\n27Budget  Revised Budget\\n2023-24 2023-24 2024-25\\n- 5,000 5,000 40,000\\n- 12,000 13,129 14,500\\n- - - 1,000\\n- 2,000 2,000 -\\n- 100 100 -\\n - 200 200 290\\n - 200 200 290\\n - - - 4,000\\n - - - 2,000\\n - 10 10 12\\n - 200 200 -\\n - 100 100 -\\n - 100 100 -\\n - 200 200 -\\n - 55 8\\n- 70 70 250\\n- 20 20 150National Heritage Endowment Fund\\nProv ision f or E-FansProv ision f or 5km radius gas schemes \\nand other court cases\\nProv ision f or E-Vehicles/BikesGHPL Loan Facility  \\nProv ision f or Green Initiativ esArbitration/ Court Cases & Others\\nContd…CAPEX obligation of  GOB f or Reko Diq \\nProject/Equity  Contribution(Rs in Million)\\nClassification\\nProv ision f or Grant to Hassan AbdalCadet CollegeProv ision f or Gender Initiativ es\\nPakistan Foundation Fighting Blindess\\nSportspersons Welf are Fund & Other\\nStudent Loan & Aid Initiativ es/Schemes\\nWelf are of Minorities Initiativ es/\\nSchemes\\nProv ision f or Social Welf are Initiativ es &\\nOthers\\nNazriy a e Pakistan Council Trust\\nIslamabad\\nClimate Change Conf erences & Forums\\n28Budget  Revised Budget\\n2023-24 2023-24 2024-25\\n- - -  1,000\\n- - -  500\\n- 1,000            1,000           3,300\\n- - -  7,000\\n- - -  5,720\\n- - -  20,000\\n- 1,000           1,000          2,000\\n- - -  10,000\\n - - -  5,000\\n - - -  5,600\\n - - -  1,000\\n - - -  250\\n - - -  200\\n - - -  500\\n - - 96,644        -  \\n - - -  300\\n - - -  50\\n - - -  250\\n1,408,638 1,482,000 1,776,672Center of  Excellence - OPHRD(Rs in Million)\\nClassification\\nPortal f or Ov erseas Pakistani - OPHRD\\nGrant to The Noorani Foundation (TNF)\\nBoarding School SwabiProv ision f or Media/Publicity and\\nAdv ertisementDigital Inf ormation Inf rastructure\\nInitiativ es\\nDuty  Drawback of  taxes (DLTL, LTLD, \\nDDT)\\nOthersPSEB f or IT ExportsDigitization of  FBR/IT upgradation and \\nrestructuring etc\\nUSF & R&D fund\\nSMEDA Fund\\nCredit Scoring Serv ices - SMEDA\\nSME Certif ication, Accreditation and \\nQuality  Improv ement Program\\nGrant to Ov erseas Pakistani AuthorityProv ision f or TSAGrant to Estab. Div . f or Balochistan\\nPackage\\nProv ision f or SPC - SIFC\\nOther Inf ormation Technology  Initiativ es\\nTOTAL GRANTS (I+II):\\n29Budget  Revised Budget\\n2023-24 2023-24 2024-25\\n1 16,335 16,335 10,000\\n22 2 22 25\\n3 20,000 19,255 40,000\\n4 332 332 340\\n5 165 165 165\\n63 1 31 31\\n7 - - 35,000\\n8 10,000 10,000 3,500\\n9 21,015 21,015 21,000\\n10 469 469 694\\n11 - - 656\\n12 - - 3,300\\n68,369 67,624 114,711Loans/Adv ances to Friendly  CountriesClassification\\nWay s & Means Adv ances to the Gov t.\\nof AJK f or repay ment of principal &interestTable-14 shows Current Loans & Adv ances as prov ided by Federal Gov ernment to\\nGov ts. of AJK, GB and v arious institutions as well as Gov t. Serv ants to enable them tomeet their f inancial requirements. The details are as under:  \\nWay s and Means to Prov incesGilgit-Baltistan f or Repay ment of\\nPrincipal and InterestLoans and Adv ances to Gov ernments\\nServ antsCURRENT LOANS & ADVANCES\\nTOTAL:Loans to Pakistan Steel Mills Karachi\\nOthers Junagadh and Kathiawar Chief s\\nLoan to Pakistan Central Cotton\\nCommittee (PCCC)(Rs in Million)\\nLoan to State Engineering Corporation\\nPriv atization ContingencyTABLE - 14\\nMarkup Pay ment of Pakistan Steel Mill\\nLoan No.2\\n30Budget  Revised Budget\\n2023-24 2023-24 2024-25\\n1 100 100 500\\n2 3,000 3,000 -\\n3 9,940 9,940 9,750\\n4\\n12 12 15\\n5 180 180 -\\n6\\n82,000 82,000 24,000\\n95,232 95,232 34,265\\nBudget  Revised Budget\\n2023-24 2023-24 2024-25\\n1 157,314 152,295        206,911\\n2700,523 700,523 745,318\\n857,836 852,817 952,229(Rs in Million)\\nClassification\\nClassificationTable-16 shows Dev elopment and External Dev elopment Loans & Adcances as\\nmade by Federal Gov ernment to Prov inces, AJK & GB, PSEs, Financial / Non-Financial\\nInstitutions, District Gov ernments / TMAs and others to assist them in carry ing out theirDev elopment Programmes.DEVELOPMENT  LOANS AND ADVANCES Table-15 shows detail of Current Inv estments through equity . The Federal\\nGov ernment inv ests f unds in v arious Companies, Banks etc, to earn Div idends whichresults an increase  in Gov ernment's  Rev enues:    \\nDev elopment Loan and Adv ances are part of project aid disbursed by f oreign\\ndonors and are used to Finance PSDP. The loans are re-lent by the Federal Gov ernment toProv incial Gov ernments and PSEs.\\nExternal Dev elopment Loans and Adv ancesTOTAL:TABLE - 15\\n(Rs in Million)Pakistan Mortgage Ref inance Company  Ltd. (PMRCL) KarachiPaid up Capital f or Exim Bank of  \\nPakistan \\nPakistan's Annual Contribution to Inter- \\nGov ernmental Group IF 24 (G-24)\\nTOTAL:TABLE - 16\\nDev elopment Loans and Adv ancesEquity  f rom GoP f or Pak-China \\nInv estment Co. Ltd. Islamabad \\nLoan and Adv ances to GENCO IVCURRENT INVEST MENT S\\nGOP Equity  in DISCOS against PHLS \\nRe-Pay ment of  Loans as Public Debt\\n31Budget Revised Budget\\n2023-24 2023-24 2024-25\\n652,950 459,000 1,039,776\\n1 5,450 3,147 7,303\\n2 1,115 114 1,658\\n3 90,120 10,919 75,773\\n4 4,050 2,750 6,257\\n5 1,100 -                  2,205\\n6 360 245 728\\n7 3,400 3,164 5,636\\n8 2,000 1,365 3,776\\n9 840 416 921\\n10 8,500 5,859 25,751\\n11 3,220 4,432 6,084\\n12 59,700 40,000 66,315\\n13 40,480 35,000 27,688\\n14 814 130 104\\n15 3,000 1,923 4,919\\nContd….Public Sector Dev elopment Programme (PSDP)\\nClimate Change Div isionCabinet Div isionTABLE - 17\\nBoard of  Inv estment\\nIndustries and Production Div isionHuman Rights Div isionHigher Education CommissionEstablishment Div isionThe Public Sector Dev elopment Programme (PSDP) is the main instrument f or\\nimprov ing the socio-economic conditions in the country and achiev ing the macroeconomic &\\ndev elopment objectiv es and targets set by the gov ernment, which y ield maximum benef itsf or the society  in the shortest possible time. \\nCommunications Div ision (other than \\nNHA)Commerce DivisionClassificationPSDP 2024-25 \\nA . Federal Ministries/DivisionsTable-17 shows the details of PSDP size f or FY 2024-25 in respect of Ministries /\\nDiv isions / Departments / Corporations and f or Special Packeges / Relief , explaining the\\nf igures of  PSDP giv en in Table-1, Part-1.\\nHousing & Works Div ision(Rs in Million)\\nFinance Div isionDef ence Div ision \\nFederal Education & Prof essional\\nTraining Div isionDef ence Production Div isionAv iation Div ision\\n32Budget  Revised Budget\\n2023-24 2023-24 2024-25\\n16 2,000 981 5,649\\n17 6,000 6,000 28,929\\n18 1,900 1,900 3,650\\n19 10,000 8,151 9,070\\n20 1,400 961 1,230\\n21 3,300 2,557 5,300\\n22 150 146 169.5\\n23 8,850 5,019 41,250\\n24 13,100 13,094 27,000\\n25 540 102 1015\\n26 26,100 22,680 25,000\\n27 150 150 256.328 1,500 1,500 3,225.729 25,047 6,974 60,015\\n30 500 500 -\\n31 33,000 32,823 45,000\\n32 800 800 500\\n33 3,200 3,200 17,696\\n34 8,000 5,048 7,149.5\\n35 964 49 1,434\\n36 - - 987\\n37 6,900 6,900 35,617\\n38 107,500 100,000 259,59839 60,900 40,000 74,500\\n40 50,000 50,000 80,416\\n41 57,000 40,000 70,000\\nContd….Special Areas (AJK & GB)Strategic Plans Div isionInterior Division(Rs in Million)\\nWater Resources Division Rev enue Div isionPakistan Nuclear Regulatory  AuthorityNational Health Serv ices, Regulations &\\nCoordination Div isionInformation Tech. & Telecom Division\\nInter Prov incial Coordination Div ision\\nRailways DivisionNarcotics Control Div ision\\nPlanning, Dev elopment & Spl. Initiativ es\\nDivisionPetroleum Div ision\\nScience & Technology Research\\nDivision\\nMerged Districts of  Khy ber PakhtunkhwaLaw and Justice Div ision\\nProv incial ProjectsState & Frontier Regions Div isionInf ormation & Broadcasting Div isionClassification\\nMaritime Affairs Division\\nNational Food Security & Research\\nDivision\\nReligious Affairs & Interfaith HarmonyPov erty  Allev iation and Social Saf ety  \\nDiv.Pakistan Atomic Energy  CommissionNational  Heritage & Culture Div ision\\nSUPARCO\\n33Budget  Revised Budget\\n2023-24 2023-24 2024-25\\nB. 212,050 187,000 356,224\\n1 157,500 147,000 180,284\\n2 54,550 40,000 175,940\\nC. 5,000 5,000 4,000\\nD. 80,000 8,000 -\\n950,000 659,000 1,400,000\\nE 200,000 175,000 100,000\\n1,150,000 834,000 1,500,000\\nF. -- 196,839\\nG. 1,559,000 1,559,000 2,095,380\\n2,709,000 2,393,000 3,792,219SOEs\\nPROVINCESPrime Minister's InitiativesProject Liabilities\\nT OT AL (FEDERAL PSDP + E + F): Power Div ision (NTDC / PEPCO)\\nTOTAL NATIONAL PSDP  (FEDERAL+F+G):T OT AL  (FEDERAL PSDP):Classification\\nNational Highway  Authority  (NHA)\\nVGF for PPP ProjectsCorporations(Rs in Million)\\n34Budget  Revised Budget\\n2023-24 2023-24 2024-25\\n24,353           24,580         27,246           \\n 554 1,274           638\\n577 451              621\\n120,563         103,980       140,534\\n11,374           11,037         12,820\\n4,676            18,253          4,754\\nAdaptation 55,047           38,060          46,625\\nMitigation 133,122         144,839          212,861\\nSupporting Areas 18,347           17,794         18,887\\nDisaster\\n37,278           34,584         47,434           \\n11,394           11,836         12,999           \\n1,541            389              444Safety & Security\\nAgency, Political Participation &Meaningful Engagement\\nClimat e\\nPreparednes sRes pons eRecovery & Rehab ilitationHealth & Well-beingGovernment & Data Sys temsEmployment & Economic Opportunit\\nyGender\\nEquality & Quality of EducationTABLE - 18\\nCLIMATE, GENDER AND DISASTER\\n(Rs in Million)\\nClassification\\n35\""
            ],
            "application/vnd.google.colaboratory.intrinsic+json": {
              "type": "string"
            }
          },
          "metadata": {},
          "execution_count": 50
        }
      ]
    },
    {
      "cell_type": "code",
      "source": [
        "text_spliter=CharacterTextSplitter(\n",
        "    separator='\\n',\n",
        "    chunk_size=800,\n",
        "    chunk_overlap=200,\n",
        "    length_function=len,\n",
        ")\n",
        "texts=text_spliter.split_text(raw_text)"
      ],
      "metadata": {
        "colab": {
          "base_uri": "https://localhost:8080/"
        },
        "id": "5R0_T07v-0Lh",
        "outputId": "5697562e-f179-4a54-fa0c-945d7584c5f0"
      },
      "execution_count": 51,
      "outputs": [
        {
          "output_type": "stream",
          "name": "stderr",
          "text": [
            "WARNING:langchain_text_splitters.base:Created a chunk of size 854, which is longer than the specified 800\n"
          ]
        }
      ]
    },
    {
      "cell_type": "code",
      "source": [
        "len(texts)"
      ],
      "metadata": {
        "colab": {
          "base_uri": "https://localhost:8080/"
        },
        "id": "OiVW68qvGT8E",
        "outputId": "96c3254d-6349-4488-d2b9-58576f89300d"
      },
      "execution_count": 52,
      "outputs": [
        {
          "output_type": "execute_result",
          "data": {
            "text/plain": [
              "73"
            ]
          },
          "metadata": {},
          "execution_count": 52
        }
      ]
    },
    {
      "cell_type": "code",
      "source": [
        "embeding=OpenAIEmbeddings()"
      ],
      "metadata": {
        "id": "UhJ1HIjnGnLN"
      },
      "execution_count": 53,
      "outputs": []
    },
    {
      "cell_type": "code",
      "source": [
        "documents_search=FAISS.from_texts(texts,embeding)"
      ],
      "metadata": {
        "id": "xRNwcySeGtua"
      },
      "execution_count": 54,
      "outputs": []
    },
    {
      "cell_type": "code",
      "source": [
        "documents_search"
      ],
      "metadata": {
        "colab": {
          "base_uri": "https://localhost:8080/"
        },
        "id": "rwD63KENG2GA",
        "outputId": "37720e4d-3943-48e3-8629-58088f38a640"
      },
      "execution_count": 55,
      "outputs": [
        {
          "output_type": "execute_result",
          "data": {
            "text/plain": [
              "<langchain_community.vectorstores.faiss.FAISS at 0x7e61e23970a0>"
            ]
          },
          "metadata": {},
          "execution_count": 55
        }
      ]
    },
    {
      "cell_type": "code",
      "source": [
        "from langchain.chains.question_answering import load_qa_chain\n",
        "from langchain.llms import OpenAI"
      ],
      "metadata": {
        "id": "yTsRzYdFG3Mr"
      },
      "execution_count": 56,
      "outputs": []
    },
    {
      "cell_type": "code",
      "source": [
        "chain=load_qa_chain(OpenAI(),chain_type='stuff')"
      ],
      "metadata": {
        "id": "6U6N7d3uJXZA"
      },
      "execution_count": 57,
      "outputs": []
    },
    {
      "cell_type": "code",
      "source": [
        "query='Public Financial Management & Accountability (Prov inces-P4R)'\n",
        "docs=documents_search.similarity_search(query)\n",
        "chain.run(input_documents=docs,question=query)"
      ],
      "metadata": {
        "colab": {
          "base_uri": "https://localhost:8080/",
          "height": 87
        },
        "id": "kilsNMadJZmM",
        "outputId": "fc756241-2001-40ec-9f61-4a5319e0b8c2"
      },
      "execution_count": 59,
      "outputs": [
        {
          "output_type": "execute_result",
          "data": {
            "text/plain": [
              "' The main objectives of the FY2024-25 budget are to promote economic revival and stability, address fiscal deficits and inflationary pressures, consolidate fiscal policies, strengthen external accounts, and improve the balance of payments position. It also includes provisions for e-vehicles/bikes, green initiatives, arbitration/court cases, and other initiatives such as grants for education, welfare, and sports. The budget also emphasizes fiscal discipline, privatization, investment stimulation, and revenue mobilization for a sustained and inclusive economic growth. '"
            ],
            "application/vnd.google.colaboratory.intrinsic+json": {
              "type": "string"
            }
          },
          "metadata": {},
          "execution_count": 59
        }
      ]
    },
    {
      "cell_type": "code",
      "source": [],
      "metadata": {
        "id": "IJYMjwykJeff"
      },
      "execution_count": 58,
      "outputs": []
    }
  ]
}